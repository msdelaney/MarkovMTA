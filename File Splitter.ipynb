{
 "cells": [
  {
   "cell_type": "code",
   "execution_count": 1,
   "id": "87e307c2",
   "metadata": {},
   "outputs": [],
   "source": [
    "import codecs\n",
    "import csv"
   ]
  },
  {
   "cell_type": "code",
   "execution_count": 2,
   "id": "a28af342",
   "metadata": {},
   "outputs": [
    {
     "data": {
      "text/plain": [
       "586738"
      ]
     },
     "execution_count": 2,
     "metadata": {},
     "output_type": "execute_result"
    }
   ],
   "source": [
    "csvfile = open('attribution data.csv', 'r').readlines()\n",
    "csvfile[0]"
   ]
  },
  {
   "cell_type": "code",
   "execution_count": 6,
   "id": "410cfe77",
   "metadata": {},
   "outputs": [],
   "source": [
    "header = csvfile[0]"
   ]
  },
  {
   "cell_type": "code",
   "execution_count": 11,
   "id": "81c29ca2",
   "metadata": {},
   "outputs": [],
   "source": [
    "filename = 1\n",
    "for i in range(len(csvfile)):\n",
    "    if i % 100000 == 0:\n",
    "        with open('attr'+ str(filename) + '.csv', 'w+') as hold:\n",
    "            if filename > 1:\n",
    "                hold.write(header)\n",
    "            hold.writelines(csvfile[i:i+100000])\n",
    "            filename += 1"
   ]
  },
  {
   "cell_type": "code",
   "execution_count": null,
   "id": "0a53e425",
   "metadata": {},
   "outputs": [],
   "source": []
  }
 ],
 "metadata": {
  "kernelspec": {
   "display_name": "Python 3 (ipykernel)",
   "language": "python",
   "name": "python3"
  },
  "language_info": {
   "codemirror_mode": {
    "name": "ipython",
    "version": 3
   },
   "file_extension": ".py",
   "mimetype": "text/x-python",
   "name": "python",
   "nbconvert_exporter": "python",
   "pygments_lexer": "ipython3",
   "version": "3.9.7"
  }
 },
 "nbformat": 4,
 "nbformat_minor": 5
}
